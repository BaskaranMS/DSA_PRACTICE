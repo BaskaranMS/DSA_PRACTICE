{
  "nbformat": 4,
  "nbformat_minor": 0,
  "metadata": {
    "colab": {
      "provenance": [],
      "authorship_tag": "ABX9TyPGYud0kyihhKhlkt0xI3MU",
      "include_colab_link": true
    },
    "kernelspec": {
      "name": "python3",
      "display_name": "Python 3"
    },
    "language_info": {
      "name": "python"
    }
  },
  "cells": [
    {
      "cell_type": "markdown",
      "metadata": {
        "id": "view-in-github",
        "colab_type": "text"
      },
      "source": [
        "<a href=\"https://colab.research.google.com/github/BaskaranMS/DSA_PRACTICE/blob/main/DSA2.ipynb\" target=\"_parent\"><img src=\"https://colab.research.google.com/assets/colab-badge.svg\" alt=\"Open In Colab\"/></a>"
      ]
    },
    {
      "cell_type": "markdown",
      "source": [
        "HASH TABLE - SETS & MAP"
      ],
      "metadata": {
        "id": "_xo71DtH4UY9"
      }
    },
    {
      "cell_type": "code",
      "execution_count": 18,
      "metadata": {
        "colab": {
          "base_uri": "https://localhost:8080/"
        },
        "id": "tAuzOEz7Jq-F",
        "outputId": "d6a6a14d-c5a8-4a92-c0d0-589498dbdfed"
      },
      "outputs": [
        {
          "output_type": "stream",
          "name": "stdout",
          "text": [
            "{'1', '2', '3', '4'}\n",
            "{'1': 8, '2': 7, '3': 7, '4': 4}\n"
          ]
        }
      ],
      "source": [
        "#SET is a unique unordered collection of elements\n",
        "#Each unique value is hashed and stored in the hash table\n",
        "a = \"11111222221113334442323343\";\n",
        "b = set(a);\n",
        "print(b);\n",
        "\n",
        "#DIST / MAP is the key - value pairs of collection\n",
        "#Each key is hashed and stored in the hash table\n",
        "c = {};\n",
        "\n",
        "for word in list(a):\n",
        "  if word in c:\n",
        "    c[word] += 1;\n",
        "  else:\n",
        "    c[word] = 1;\n",
        "\n",
        "print(c);"
      ]
    },
    {
      "cell_type": "markdown",
      "source": [
        "STACK & QUEUE"
      ],
      "metadata": {
        "id": "pfv5kkxB4QpK"
      }
    },
    {
      "cell_type": "code",
      "source": [
        "#deque\n",
        "#First In First Out - FIFO (Doubly linked list is suitable for FIFO)\n",
        "from collections import deque;\n",
        "\n",
        "a = deque();\n",
        "a.append(1)\n",
        "print(a)\n",
        "\n",
        "#Stack\n",
        "#Last In First Out - LIFO\n",
        "a = [];\n",
        "a.append(1);\n",
        "a.append(2);\n",
        "a.append(3);\n",
        "a.append(4);\n",
        "print(a);\n",
        "\n",
        "a.pop();\n",
        "a.pop();\n",
        "print(a);"
      ],
      "metadata": {
        "colab": {
          "base_uri": "https://localhost:8080/"
        },
        "id": "6IGQI6-mvggP",
        "outputId": "3028054b-b710-4585-f810-ab9da0a731f5"
      },
      "execution_count": 20,
      "outputs": [
        {
          "output_type": "stream",
          "name": "stdout",
          "text": [
            "deque([1])\n",
            "[1, 2, 3, 4]\n",
            "[1, 2]\n"
          ]
        }
      ]
    },
    {
      "cell_type": "markdown",
      "source": [
        "RECURSION - A function that calls it again and again"
      ],
      "metadata": {
        "id": "coJTw3bs4anL"
      }
    },
    {
      "cell_type": "code",
      "source": [
        "#Fibboncci Time -> O(2 ^ n) Space -> O(n)\n",
        "\n",
        "# 0 - 1 - 1 - 2 - 3 - 5 - 8 - 13...\n",
        "# f(0) = 0\n",
        "# f(1) = 1\n",
        "# n > 1 : f(n) = f(n - 1) + f(n - 2)\n",
        "\n",
        "def f(n):\n",
        "  if n == 0:\n",
        "    return 0;\n",
        "  elif n == 1:\n",
        "    return 1;\n",
        "  else:\n",
        "    return f(n - 1) + f(n - 2);\n",
        "\n",
        "print(f(10))"
      ],
      "metadata": {
        "colab": {
          "base_uri": "https://localhost:8080/"
        },
        "id": "AGR4wNQe4hbo",
        "outputId": "981a6f77-dc2c-4710-835a-bd680acfc6fc"
      },
      "execution_count": 24,
      "outputs": [
        {
          "output_type": "stream",
          "name": "stdout",
          "text": [
            "55\n"
          ]
        }
      ]
    },
    {
      "cell_type": "code",
      "source": [],
      "metadata": {
        "id": "kulQrtCA5rjy"
      },
      "execution_count": null,
      "outputs": []
    }
  ]
}