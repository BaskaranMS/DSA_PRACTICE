{
  "nbformat": 4,
  "nbformat_minor": 0,
  "metadata": {
    "colab": {
      "provenance": [],
      "authorship_tag": "ABX9TyN6Ay8y95LcF9dOZ//8gFor",
      "include_colab_link": true
    },
    "kernelspec": {
      "name": "python3",
      "display_name": "Python 3"
    },
    "language_info": {
      "name": "python"
    }
  },
  "cells": [
    {
      "cell_type": "markdown",
      "metadata": {
        "id": "view-in-github",
        "colab_type": "text"
      },
      "source": [
        "<a href=\"https://colab.research.google.com/github/BaskaranMS/DSA_PRACTICE/blob/main/dsa1.ipynb\" target=\"_parent\"><img src=\"https://colab.research.google.com/assets/colab-badge.svg\" alt=\"Open In Colab\"/></a>"
      ]
    },
    {
      "cell_type": "markdown",
      "source": [
        "Arrays / List -> Dynamic in Nature for python"
      ],
      "metadata": {
        "id": "yb_wms-pcMjC"
      }
    },
    {
      "cell_type": "code",
      "execution_count": null,
      "metadata": {
        "colab": {
          "base_uri": "https://localhost:8080/"
        },
        "id": "Z63Rq67TSjG_",
        "outputId": "135943a2-9c2f-4d3b-c81b-ff02bd1f9a4a"
      },
      "outputs": [
        {
          "output_type": "stream",
          "name": "stdout",
          "text": [
            "[1, 2, 3, 4]\n"
          ]
        }
      ],
      "source": [
        "a = [1, 2, 3, 4];\n",
        "print(a);"
      ]
    },
    {
      "cell_type": "code",
      "source": [
        "a.append(5);\n",
        "print(a)"
      ],
      "metadata": {
        "colab": {
          "base_uri": "https://localhost:8080/"
        },
        "id": "QXkvF6JlS1kU",
        "outputId": "909f3557-3c9f-49c0-cf1f-120c7a6325bb"
      },
      "execution_count": null,
      "outputs": [
        {
          "output_type": "stream",
          "name": "stdout",
          "text": [
            "[1, 2, 3, 4, 5, 5, 5]\n"
          ]
        }
      ]
    },
    {
      "cell_type": "code",
      "source": [
        "print(len(a))"
      ],
      "metadata": {
        "colab": {
          "base_uri": "https://localhost:8080/"
        },
        "id": "4sfmFCEPTBjU",
        "outputId": "eec43613-2f22-49b7-c18a-f53c6e03d538"
      },
      "execution_count": null,
      "outputs": [
        {
          "output_type": "stream",
          "name": "stdout",
          "text": [
            "7\n"
          ]
        }
      ]
    },
    {
      "cell_type": "code",
      "source": [
        "if 5 in a:\n",
        "  print(\"true\");\n",
        "else:\n",
        "  print(\"false\");"
      ],
      "metadata": {
        "colab": {
          "base_uri": "https://localhost:8080/"
        },
        "id": "1oH0BiEkTbXp",
        "outputId": "e5cf4391-bbad-4338-89e3-27c963df6a45"
      },
      "execution_count": null,
      "outputs": [
        {
          "output_type": "stream",
          "name": "stdout",
          "text": [
            "true\n"
          ]
        }
      ]
    },
    {
      "cell_type": "code",
      "source": [
        "b = [\"apple\", 2, \"banana\", { \"name\": \"baskaran\"}];\n",
        "print(b);"
      ],
      "metadata": {
        "colab": {
          "base_uri": "https://localhost:8080/"
        },
        "id": "B0zwqxnHTzkj",
        "outputId": "874eeb13-354f-4f4d-9f60-17eee3bba510"
      },
      "execution_count": null,
      "outputs": [
        {
          "output_type": "stream",
          "name": "stdout",
          "text": [
            "['apple', 2, 'banana', {'name': 'baskaran'}]\n"
          ]
        }
      ]
    },
    {
      "cell_type": "code",
      "source": [
        "c = {\n",
        "    \"name\": \"baskaran\"\n",
        "};\n",
        "print(c.get(\"name\"))"
      ],
      "metadata": {
        "colab": {
          "base_uri": "https://localhost:8080/"
        },
        "id": "6TBQ4ZlXUMbh",
        "outputId": "c21a5ad6-3ea7-4799-fec7-a109262bce74"
      },
      "execution_count": null,
      "outputs": [
        {
          "output_type": "stream",
          "name": "stdout",
          "text": [
            "baskaran\n"
          ]
        }
      ]
    },
    {
      "cell_type": "code",
      "source": [
        "print(type(c))"
      ],
      "metadata": {
        "colab": {
          "base_uri": "https://localhost:8080/"
        },
        "id": "OwGNcUUlUqiJ",
        "outputId": "55b7033a-3f8a-4d03-a64a-92b54e9396a2"
      },
      "execution_count": null,
      "outputs": [
        {
          "output_type": "stream",
          "name": "stdout",
          "text": [
            "<class 'dict'>\n"
          ]
        }
      ]
    },
    {
      "cell_type": "markdown",
      "source": [
        "Singly linked list"
      ],
      "metadata": {
        "id": "UM03PptzXqAr"
      }
    },
    {
      "cell_type": "code",
      "source": [
        "class singlyNode:\n",
        "  def __init__(self, val, next = None ):\n",
        "    self.val = val;\n",
        "    self.next = next;\n",
        "\n",
        "  def __str__(self):\n",
        "    return str(self.val)\n",
        "\n",
        "Head = singlyNode(1);\n",
        "b = singlyNode(2);\n",
        "c = singlyNode(3);\n",
        "Tail = singlyNode(4);\n",
        "\n",
        "Head.next = b;\n",
        "b.next = c;\n",
        "c.next = Tail;\n",
        "\n",
        "print(Head);"
      ],
      "metadata": {
        "colab": {
          "base_uri": "https://localhost:8080/"
        },
        "id": "1LEQwhpvXtnn",
        "outputId": "f49af452-2163-4f3e-d1ec-e43eef2ac644"
      },
      "execution_count": null,
      "outputs": [
        {
          "output_type": "stream",
          "name": "stdout",
          "text": [
            "1\n"
          ]
        }
      ]
    },
    {
      "cell_type": "markdown",
      "source": [
        "Traversing the linked list"
      ],
      "metadata": {
        "id": "Ak7UeBhqZieF"
      }
    },
    {
      "cell_type": "code",
      "source": [
        "curr = Head;\n",
        "\n",
        "while curr:\n",
        "  print(curr.val);\n",
        "  curr = curr.next;"
      ],
      "metadata": {
        "colab": {
          "base_uri": "https://localhost:8080/"
        },
        "id": "gktuMNRwZmTU",
        "outputId": "cfe87e27-ef01-4847-f31c-53d9853e0f2f"
      },
      "execution_count": null,
      "outputs": [
        {
          "output_type": "stream",
          "name": "stdout",
          "text": [
            "1\n",
            "2\n",
            "3\n",
            "4\n"
          ]
        }
      ]
    },
    {
      "cell_type": "markdown",
      "source": [
        "Displaying the linked list value"
      ],
      "metadata": {
        "id": "VPrtLMqKaCyT"
      }
    },
    {
      "cell_type": "code",
      "source": [
        "def __display__(head):\n",
        "  curr = head;\n",
        "  elements = [];\n",
        "  while curr:\n",
        "    elements.append(str(curr.val));\n",
        "    curr = curr.next;\n",
        "\n",
        "  print(\" -> \".join(elements));\n",
        "\n",
        "__display__(Head);"
      ],
      "metadata": {
        "colab": {
          "base_uri": "https://localhost:8080/"
        },
        "id": "4TDi8X88aG0V",
        "outputId": "9a232009-c231-4b7b-d722-517da4ee2ba5"
      },
      "execution_count": null,
      "outputs": [
        {
          "output_type": "stream",
          "name": "stdout",
          "text": [
            "1 -> 2 -> 3 -> 4\n"
          ]
        }
      ]
    },
    {
      "cell_type": "markdown",
      "source": [
        "Searching in linked list - O(n)"
      ],
      "metadata": {
        "id": "0OUVhCska_o-"
      }
    },
    {
      "cell_type": "code",
      "source": [
        "def __search__(head, val):\n",
        "  curr = head;\n",
        "  while curr:\n",
        "    if(curr.val == val):\n",
        "      return True;\n",
        "    else:\n",
        "      curr = curr.next;\n",
        "\n",
        "  return False;\n",
        "\n",
        "__search__(Head, 4)"
      ],
      "metadata": {
        "colab": {
          "base_uri": "https://localhost:8080/"
        },
        "id": "bV01S7vybCCG",
        "outputId": "4e09fd58-6219-432d-b3b8-41607b5db096"
      },
      "execution_count": null,
      "outputs": [
        {
          "output_type": "execute_result",
          "data": {
            "text/plain": [
              "True"
            ]
          },
          "metadata": {},
          "execution_count": 28
        }
      ]
    },
    {
      "cell_type": "markdown",
      "source": [
        "Doubly Linked List"
      ],
      "metadata": {
        "id": "P8TWk24pcWm_"
      }
    },
    {
      "cell_type": "code",
      "source": [
        "class DoublyLinked:\n",
        "\n",
        "  def __init__(self, val, next = None, prev = None):\n",
        "    self.val = val;\n",
        "    self.next = next;\n",
        "    self.prev = prev;\n",
        "\n",
        "  def __str__(head):\n",
        "    return str(head.val);"
      ],
      "metadata": {
        "id": "6f04j-UncY1e"
      },
      "execution_count": null,
      "outputs": []
    },
    {
      "cell_type": "markdown",
      "source": [
        "Display - O(n)"
      ],
      "metadata": {
        "id": "YsagQVreeR8_"
      }
    },
    {
      "cell_type": "code",
      "source": [
        "def __displayDoubly__(head):\n",
        "  curr = head;\n",
        "  elements = [];\n",
        "  while curr:\n",
        "    elements.append(str(curr.val));\n",
        "    curr = curr.next;\n",
        "\n",
        "  print(\" <-> \".join(elements));"
      ],
      "metadata": {
        "id": "5DU7o-WreVZc"
      },
      "execution_count": null,
      "outputs": []
    },
    {
      "cell_type": "markdown",
      "source": [
        "Insertion at Beginning - O(n)"
      ],
      "metadata": {
        "id": "IE1HrwPufE45"
      }
    },
    {
      "cell_type": "code",
      "source": [
        "def __insert_at_begining__(head, tail, val):\n",
        "  new_node = DoublyLinked(val, next = head);\n",
        "  if head:\n",
        "   head.prev = new_node;\n",
        "  else:\n",
        "    tail = new_node;\n",
        "  return new_node, tail;"
      ],
      "metadata": {
        "id": "rleV6imnfIot"
      },
      "execution_count": null,
      "outputs": []
    },
    {
      "cell_type": "code",
      "source": [
        "head = tail = DoublyLinked(1);\n",
        "\n",
        "__displayDoubly__(head);\n",
        "\n",
        "head, tail = __insert_at_begining__(head, tail, 3);\n",
        "\n",
        "print(head);\n",
        "__displayDoubly__(head);"
      ],
      "metadata": {
        "colab": {
          "base_uri": "https://localhost:8080/"
        },
        "id": "ZQmAJL4jhtws",
        "outputId": "c232cfe5-3dfa-41a8-bf5a-526afa765b37"
      },
      "execution_count": null,
      "outputs": [
        {
          "output_type": "stream",
          "name": "stdout",
          "text": [
            "1\n",
            "3\n",
            "3 <-> 1\n"
          ]
        }
      ]
    },
    {
      "cell_type": "markdown",
      "source": [
        "Insert at End - O(n)"
      ],
      "metadata": {
        "id": "S4K2wTd_jF39"
      }
    },
    {
      "cell_type": "code",
      "source": [
        "def __insert_at_end__(head, tail, val):\n",
        "  new_node = DoublyLinked(val, prev = tail);\n",
        "  tail.next = new_node;\n",
        "\n",
        "  return head, new_node;"
      ],
      "metadata": {
        "id": "clpKCvhfjeD-"
      },
      "execution_count": null,
      "outputs": []
    },
    {
      "cell_type": "code",
      "source": [
        "head, tail = __insert_at_end__(head, tail, 11);\n",
        "\n",
        "__displayDoubly__(head);"
      ],
      "metadata": {
        "colab": {
          "base_uri": "https://localhost:8080/"
        },
        "id": "6MBEEBcEkRwI",
        "outputId": "6229fe9c-d30f-4067-90e6-ebab71cba22e"
      },
      "execution_count": null,
      "outputs": [
        {
          "output_type": "stream",
          "name": "stdout",
          "text": [
            "3 <-> 1 <-> 11\n"
          ]
        }
      ]
    },
    {
      "cell_type": "markdown",
      "source": [
        "SINGLY LINKED LIST NODE CREATION"
      ],
      "metadata": {
        "id": "ztHxKri5lFj2"
      }
    },
    {
      "cell_type": "code",
      "source": [
        "class SllNode:\n",
        "  def __init__(self, data):\n",
        "    self.data = data;\n",
        "    self.next = None;"
      ],
      "metadata": {
        "id": "GzdrzRdFlJqE"
      },
      "execution_count": 1,
      "outputs": []
    },
    {
      "cell_type": "code",
      "source": [
        "class SinglyLinkedList:\n",
        "  def __init__(self):\n",
        "    self.head = None;\n",
        "\n",
        "  def append(self, data):\n",
        "    new_node = SllNode(data);\n",
        "    if not self.head:\n",
        "      self.head = new_node;\n",
        "      return;\n",
        "    current = self.head;\n",
        "    while current.next:\n",
        "      current = current.next;\n",
        "    current.next = new_node;\n",
        "\n",
        "  def prepend(self, data):\n",
        "    new_node = SllNode(data);\n",
        "    if self.head:\n",
        "      new_node.next = self.head;\n",
        "      self.head = new_node;\n",
        "    else:\n",
        "      self.head = new_node;"
      ],
      "metadata": {
        "id": "tFKFG7h-m0aT"
      },
      "execution_count": 7,
      "outputs": []
    },
    {
      "cell_type": "code",
      "source": [
        "def SllDisplay(self):\n",
        "  current = self.head;\n",
        "  while current:\n",
        "    print(current.data, end=\" -> \");\n",
        "    current = current.next;\n",
        "  print(\"None\");"
      ],
      "metadata": {
        "id": "dkmpO4RZo6jC"
      },
      "execution_count": 3,
      "outputs": []
    },
    {
      "cell_type": "code",
      "source": [
        "#examples\n",
        "\n",
        "a = SinglyLinkedList();\n",
        "a.append(1);\n",
        "a.append(2);\n",
        "\n",
        "SllDisplay(a);\n",
        "\n",
        "a.prepend(3);\n",
        "a.prepend(4);\n",
        "\n",
        "SllDisplay(a);\n",
        "\n",
        "b = SinglyLinkedList();\n",
        "b.prepend(5);\n",
        "b.prepend(6);\n",
        "\n",
        "SllDisplay(b);\n",
        "\n",
        "b.append(7);\n",
        "b.append(8);\n",
        "\n",
        "SllDisplay(b);"
      ],
      "metadata": {
        "colab": {
          "base_uri": "https://localhost:8080/"
        },
        "id": "EdhzHXxFpfsb",
        "outputId": "5d0856a8-4c2f-40e3-d4a6-448ba8fdb387"
      },
      "execution_count": 8,
      "outputs": [
        {
          "output_type": "stream",
          "name": "stdout",
          "text": [
            "1 -> 2 -> None\n",
            "4 -> 3 -> 1 -> 2 -> None\n",
            "6 -> 5 -> None\n",
            "6 -> 5 -> 7 -> 8 -> None\n"
          ]
        }
      ]
    },
    {
      "cell_type": "code",
      "source": [
        "#delete\n",
        "\n",
        "def SllDelete(self, value):\n",
        "  if not self.head:\n",
        "    return;\n",
        "  if self.head.data == value:\n",
        "    self.head = self.head.next;\n",
        "    return;\n",
        "  current = self.head;\n",
        "  while current.next:\n",
        "    if current.next.data == value:\n",
        "      current.next = current.next.next;\n",
        "      return;\n",
        "    current = current.next;"
      ],
      "metadata": {
        "id": "rGdXeOHAsOnh"
      },
      "execution_count": 9,
      "outputs": []
    },
    {
      "cell_type": "code",
      "source": [
        "#example\n",
        "\n",
        "SllDisplay(b);\n",
        "\n",
        "SllDelete(b, 5);\n",
        "\n",
        "SllDisplay(b);"
      ],
      "metadata": {
        "colab": {
          "base_uri": "https://localhost:8080/"
        },
        "id": "rBlRoDHMtNLW",
        "outputId": "5e99f027-2715-471e-e283-bce127ceb451"
      },
      "execution_count": 10,
      "outputs": [
        {
          "output_type": "stream",
          "name": "stdout",
          "text": [
            "6 -> 5 -> 7 -> 8 -> None\n",
            "6 -> 7 -> 8 -> None\n"
          ]
        }
      ]
    },
    {
      "cell_type": "code",
      "source": [
        "#search\n",
        "\n",
        "def SllSearch(self, value):\n",
        "  current = self.head;\n",
        "\n",
        "  while current:\n",
        "    if current.data == value:\n",
        "      return True;\n",
        "    current = current.next;\n",
        "  return False;"
      ],
      "metadata": {
        "id": "l19JBjFGtgs0"
      },
      "execution_count": 11,
      "outputs": []
    },
    {
      "cell_type": "code",
      "source": [
        "#example\n",
        "\n",
        "print(SllSearch(b, 5));"
      ],
      "metadata": {
        "colab": {
          "base_uri": "https://localhost:8080/"
        },
        "id": "4P0Xo5ueuGO-",
        "outputId": "493b309b-b8a6-4b9e-c88e-b9346fb05b96"
      },
      "execution_count": 13,
      "outputs": [
        {
          "output_type": "stream",
          "name": "stdout",
          "text": [
            "False\n"
          ]
        }
      ]
    },
    {
      "cell_type": "code",
      "source": [
        "#reverse the singly linked list\n",
        "\n",
        "def SllReverse(self):\n",
        "  prev = None;\n",
        "  current = self.head;\n",
        "\n",
        "  while current:\n",
        "    next_node = current.next;\n",
        "    current.next = prev;\n",
        "    prev = current;\n",
        "    current = next_node;\n",
        "  self.head = prev;"
      ],
      "metadata": {
        "id": "lxpPf9nKuY1i"
      },
      "execution_count": 14,
      "outputs": []
    },
    {
      "cell_type": "code",
      "source": [
        "#example\n",
        "\n",
        "SllDisplay(b);\n",
        "\n",
        "SllReverse(b);\n",
        "\n",
        "SllDisplay(b);"
      ],
      "metadata": {
        "colab": {
          "base_uri": "https://localhost:8080/"
        },
        "id": "xMe1f5bAwC1z",
        "outputId": "e70fbae9-710f-434f-977c-e86224dba707"
      },
      "execution_count": 15,
      "outputs": [
        {
          "output_type": "stream",
          "name": "stdout",
          "text": [
            "6 -> 7 -> 8 -> None\n",
            "8 -> 7 -> 6 -> None\n"
          ]
        }
      ]
    },
    {
      "cell_type": "markdown",
      "source": [
        "DOUBLY LINKED LIST"
      ],
      "metadata": {
        "id": "Qhxb3TIuyA_P"
      }
    },
    {
      "cell_type": "code",
      "source": [
        "#NODE CREATION\n",
        "\n",
        "class DllNode:\n",
        "  def __init__(self, data):\n",
        "    self.data = data;\n",
        "    self.next = None;\n",
        "    self.prev = None;"
      ],
      "metadata": {
        "id": "jakpyFN2yDNd"
      },
      "execution_count": 16,
      "outputs": []
    },
    {
      "cell_type": "code",
      "source": [
        "#CLASS DOUBLY LINKED LIST\n",
        "\n",
        "class DoublyLinkedList:\n",
        "  def __init__(self):\n",
        "    self.head = None;\n",
        "\n",
        "  def append(self, data):\n",
        "    new_node = DllNode(data);\n",
        "    if not self.head:\n",
        "      self.head = new_node;\n",
        "      return;\n",
        "    current = self.head;\n",
        "    while current.next:\n",
        "      current = current.next;\n",
        "    current.next = new_node;\n",
        "    new_node.prev = current;\n",
        "\n",
        "\n",
        "  def prepend(self, data):\n",
        "    new_node = DllNode(data);\n",
        "    if not self.head:\n",
        "      self.head = new_node;\n",
        "      return;\n",
        "    new_node.next = self.head;\n",
        "    self.head.prev = new_node;\n",
        "    self.head = new_node;\n",
        "\n",
        "  def DllDisplay(self):\n",
        "    current = self.head;\n",
        "    while current:\n",
        "      print(current.data, end=(\" <-> \"));\n",
        "      current = current.next;\n",
        "    print(\"None\");\n",
        "\n",
        "  def DllSearch(self, value):\n",
        "    current = self.head;\n",
        "    while current:\n",
        "      if current.data == value:\n",
        "        return True;\n",
        "      current = current.next;\n",
        "    return False;\n",
        "\n",
        "  def DllDelete(self, value):\n",
        "    if not self.head:\n",
        "      return;\n",
        "    current = self.head;\n",
        "    while current:\n",
        "      if current.data == value:\n",
        "        if current.next:\n",
        "          current.next.prev = current.prev;\n",
        "        if current.prev:\n",
        "          current.prev.next = current.next;\n",
        "        if current == self.head:\n",
        "          self.head = current.next;\n",
        "        return;\n",
        "      current = current.next;"
      ],
      "metadata": {
        "id": "dnRZDQjRyWqZ"
      },
      "execution_count": 22,
      "outputs": []
    },
    {
      "cell_type": "code",
      "source": [
        "#examples\n",
        "\n",
        "d = DoublyLinkedList();\n",
        "d.append(1);\n",
        "d.append(2);\n",
        "d.append(3);\n",
        "\n",
        "d.DllDisplay();\n",
        "\n",
        "d.prepend(6);\n",
        "d.prepend(5);\n",
        "d.prepend(4);\n",
        "\n",
        "d.DllDisplay();\n",
        "\n",
        "print(d.DllSearch(8));\n",
        "\n",
        "d.DllDelete(6);\n",
        "\n",
        "d.DllDisplay();"
      ],
      "metadata": {
        "colab": {
          "base_uri": "https://localhost:8080/"
        },
        "id": "l7E3YLZp1ihp",
        "outputId": "7223fa02-eefb-4a0a-8da2-93c9f3f857d1"
      },
      "execution_count": 29,
      "outputs": [
        {
          "output_type": "stream",
          "name": "stdout",
          "text": [
            "1 <-> 2 <-> 3 <-> None\n",
            "4 <-> 5 <-> 6 <-> 1 <-> 2 <-> 3 <-> None\n",
            "False\n",
            "4 <-> 5 <-> 1 <-> 2 <-> 3 <-> None\n"
          ]
        }
      ]
    }
  ]
}