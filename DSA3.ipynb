{
  "nbformat": 4,
  "nbformat_minor": 0,
  "metadata": {
    "colab": {
      "provenance": [],
      "authorship_tag": "ABX9TyPfz9W2xu4enHkVGG0pUX4v",
      "include_colab_link": true
    },
    "kernelspec": {
      "name": "python3",
      "display_name": "Python 3"
    },
    "language_info": {
      "name": "python"
    }
  },
  "cells": [
    {
      "cell_type": "markdown",
      "metadata": {
        "id": "view-in-github",
        "colab_type": "text"
      },
      "source": [
        "<a href=\"https://colab.research.google.com/github/BaskaranMS/DSA_PRACTICE/blob/main/DSA3.ipynb\" target=\"_parent\"><img src=\"https://colab.research.google.com/assets/colab-badge.svg\" alt=\"Open In Colab\"/></a>"
      ]
    },
    {
      "cell_type": "code",
      "execution_count": null,
      "metadata": {
        "id": "D5rAKEicXTCe"
      },
      "outputs": [],
      "source": [
        "#DFS - Depth First Search (Traversing the Binary Tree) (STACK)\n",
        "\n",
        "#1. preorder -> first process the node than traverse to the next node\n",
        "#2. inorder -> left -> process -> right\n",
        "#3. postorder -> left -> right -> process\n",
        "\n",
        "#BFS - Breadth first search (QUEUE)\n",
        "\n",
        "#Binary Search Tree - (left is side of the parent will smaller and right side of the parent will be larger)"
      ]
    },
    {
      "cell_type": "code",
      "source": [
        "class TreeNode:\n",
        "  def __init__(self, val, left = None, right = None):\n",
        "    self.val = val;\n",
        "    self.left = left;\n",
        "    self.right = right;\n",
        "\n",
        "  def __str__(self):\n",
        "    return str(self.val);"
      ],
      "metadata": {
        "id": "WsKEEe5EeGBY"
      },
      "execution_count": 6,
      "outputs": []
    },
    {
      "cell_type": "code",
      "source": [
        "#           5\n",
        "#       3         7\n",
        "#    2     4   6     8"
      ],
      "metadata": {
        "id": "UbLTt7efeX7c"
      },
      "execution_count": null,
      "outputs": []
    },
    {
      "cell_type": "code",
      "source": [
        "A = TreeNode(5);\n",
        "B = TreeNode(3);\n",
        "C = TreeNode(7);\n",
        "D = TreeNode(2);\n",
        "E = TreeNode(4);\n",
        "F = TreeNode(6);\n",
        "G = TreeNode(8);\n",
        "\n",
        "A.left = B;\n",
        "A.right = C;\n",
        "B.left = D;\n",
        "B.right = E;\n",
        "C.left = F;\n",
        "C.right = G;"
      ],
      "metadata": {
        "id": "cy0SYHMvek-2"
      },
      "execution_count": 8,
      "outputs": []
    },
    {
      "cell_type": "code",
      "source": [
        "#Recursive pre - order traversal (DFS)\n",
        "\n",
        "def pre_order(node):\n",
        "  if not node:\n",
        "    return;\n",
        "\n",
        "  print(node);\n",
        "  pre_order(node.left);\n",
        "  pre_order(node.right);\n"
      ],
      "metadata": {
        "id": "jcKuqX8NfN6W"
      },
      "execution_count": 9,
      "outputs": []
    },
    {
      "cell_type": "code",
      "source": [
        "pre_order(A);"
      ],
      "metadata": {
        "colab": {
          "base_uri": "https://localhost:8080/"
        },
        "id": "TcjAgzcbfoxy",
        "outputId": "98481868-71b7-4cf8-f958-f7dd3c951eee"
      },
      "execution_count": 10,
      "outputs": [
        {
          "output_type": "stream",
          "name": "stdout",
          "text": [
            "5\n",
            "3\n",
            "2\n",
            "4\n",
            "7\n",
            "6\n",
            "8\n"
          ]
        }
      ]
    },
    {
      "cell_type": "code",
      "source": [
        "#Recursive In - order traversal (DFS)\n",
        "\n",
        "def in_order(node):\n",
        "  if not node:\n",
        "    return;\n",
        "\n",
        "  in_order(node.left);\n",
        "  print(node);\n",
        "  in_order(node.right);\n",
        "\n",
        "in_order(A);"
      ],
      "metadata": {
        "colab": {
          "base_uri": "https://localhost:8080/"
        },
        "id": "zQKbgs5ckobp",
        "outputId": "0f72ff13-2ff2-4f04-cd8e-352d364ab7c6"
      },
      "execution_count": 11,
      "outputs": [
        {
          "output_type": "stream",
          "name": "stdout",
          "text": [
            "2\n",
            "3\n",
            "4\n",
            "5\n",
            "6\n",
            "7\n",
            "8\n"
          ]
        }
      ]
    },
    {
      "cell_type": "code",
      "source": [
        "#Iterative pre - order traversal\n",
        "\n",
        "def dfs_iterative(node):\n",
        "  if not node:\n",
        "    return;\n",
        "\n",
        "  stk = [node];\n",
        "\n",
        "  while stk:\n",
        "    node = stk.pop();\n",
        "    print(node);\n",
        "    if node.right: stk.append(node.right);\n",
        "    if node.left: stk.append(node.left);\n",
        "\n",
        "dfs_iterative(A);"
      ],
      "metadata": {
        "colab": {
          "base_uri": "https://localhost:8080/"
        },
        "id": "dBT1rG8elc1S",
        "outputId": "7d991c06-9cf5-48d2-a202-f86a9c8118ff"
      },
      "execution_count": 16,
      "outputs": [
        {
          "output_type": "stream",
          "name": "stdout",
          "text": [
            "5\n",
            "3\n",
            "2\n",
            "4\n",
            "7\n",
            "6\n",
            "8\n"
          ]
        }
      ]
    },
    {
      "cell_type": "code",
      "source": [
        "#Search an element\n",
        "\n",
        "def search(node, target):\n",
        "  if not node:\n",
        "    return False;\n",
        "\n",
        "  if target == node.val:\n",
        "    return True;\n",
        "\n",
        "  return search(node.left, target) or search(node.right, target);\n",
        "\n",
        "print(search(A, 5));"
      ],
      "metadata": {
        "colab": {
          "base_uri": "https://localhost:8080/"
        },
        "id": "1Mjhjy03m-m8",
        "outputId": "fb231ff6-909d-4ffb-df94-f62938261a9d"
      },
      "execution_count": 22,
      "outputs": [
        {
          "output_type": "stream",
          "name": "stdout",
          "text": [
            "True\n"
          ]
        }
      ]
    },
    {
      "cell_type": "code",
      "source": [
        "#Binary Search Tree\n",
        "\n",
        "def search_bst(node, target):\n",
        "  if not node:\n",
        "    return False;\n",
        "\n",
        "  if node.val == target:\n",
        "    return True;\n",
        "\n",
        "  if target < node.val: return search_bst(node.left, target);\n",
        "  else: return search_bst(node.right, target);\n",
        "\n",
        "print(search_bst(A, 9));"
      ],
      "metadata": {
        "colab": {
          "base_uri": "https://localhost:8080/"
        },
        "id": "NE6SFUl3of6c",
        "outputId": "3f1af12c-4b65-4ab5-d4a8-b0ff9bfd2780"
      },
      "execution_count": 26,
      "outputs": [
        {
          "output_type": "stream",
          "name": "stdout",
          "text": [
            "False\n"
          ]
        }
      ]
    },
    {
      "cell_type": "code",
      "source": [
        "#Breadth First Search\n",
        "\n",
        "from collections import deque;\n",
        "\n",
        "def search_bfs(node):\n",
        "  if not node:\n",
        "    return False;\n",
        "\n",
        "  a = deque();\n",
        "  a.append(node);\n",
        "\n",
        "  while a:\n",
        "    node = a.popleft();\n",
        "    print(node);\n",
        "    if node.left: a.append(node.left);\n",
        "    if node.right: a.append(node.right);\n",
        "\n",
        "search_bfs(A);"
      ],
      "metadata": {
        "colab": {
          "base_uri": "https://localhost:8080/"
        },
        "id": "sdz6__jupIVC",
        "outputId": "0050c797-40c1-44e5-9273-0c49a79eefa0"
      },
      "execution_count": 29,
      "outputs": [
        {
          "output_type": "stream",
          "name": "stdout",
          "text": [
            "5\n",
            "3\n",
            "7\n",
            "2\n",
            "4\n",
            "6\n",
            "8\n"
          ]
        }
      ]
    }
  ]
}